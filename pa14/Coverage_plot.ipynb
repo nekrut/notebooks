{
 "cells": [
  {
   "cell_type": "markdown",
   "metadata": {},
   "source": [
    "# Create a image the coverge of our samples"
   ]
  },
  {
   "cell_type": "markdown",
   "metadata": {},
   "source": [
    "In this notebook we are going to use the output of bamCoverage tool to plot the coverage of reads for all samples in one picture. "
   ]
  },
  {
   "cell_type": "markdown",
   "metadata": {},
   "source": [
    "We are starting with installing the necessary libraries"
   ]
  },
  {
   "cell_type": "code",
   "execution_count": 16,
   "metadata": {
    "scrolled": false
   },
   "outputs": [
    {
     "name": "stdout",
     "output_type": "stream",
     "text": [
      "Fetching package metadata ...........\n",
      "Solving package specifications: ..........\n",
      "\n",
      "# All requested packages already installed.\n",
      "# packages in environment at /opt/conda/envs/python2:\n",
      "#\n",
      "pandas                    0.20.3                   py27_0  \n"
     ]
    }
   ],
   "source": [
    "!conda install -y -c bioconda pygenometracks\n",
    "!conda install -y pandas"
   ]
  },
  {
   "cell_type": "markdown",
   "metadata": {},
   "source": [
    "Now we import them."
   ]
  },
  {
   "cell_type": "code",
   "execution_count": 17,
   "metadata": {
    "collapsed": true
   },
   "outputs": [],
   "source": [
    "import pandas as pd\n",
    "import os"
   ]
  },
  {
   "cell_type": "markdown",
   "metadata": {},
   "source": [
    "We want to get the sample name to name the tracks we aregoinh to display. In order to do that, we use the [NCBI table](https://www.ncbi.nlm.nih.gov/sra?linkname=bioproject_sra_all&from_uid=355367) file containing the accession numbers and the conditions of experiments."
   ]
  },
  {
   "cell_type": "code",
   "execution_count": 4,
   "metadata": {
    "collapsed": true
   },
   "outputs": [],
   "source": [
    "Ids=pd.read_table(get(2200))\n"
   ]
  },
  {
   "cell_type": "markdown",
   "metadata": {},
   "source": [
    "Now we are creating a list containing the concatenation of the sample ID and the condition of experiment."
   ]
  },
  {
   "cell_type": "code",
   "execution_count": null,
   "metadata": {
    "collapsed": true
   },
   "outputs": [],
   "source": [
    "idlist=list()\n",
    "for i, row in Ids.iterrows() :\n",
    "    idlist.append(str(row['Run']+\"_\"+row['Sample_Name']))"
   ]
  },
  {
   "cell_type": "markdown",
   "metadata": {},
   "source": [
    "To be sure to attribute the right name to the right dataset, we sort the list of name alphabetically."
   ]
  },
  {
   "cell_type": "code",
   "execution_count": 5,
   "metadata": {
    "collapsed": true
   },
   "outputs": [],
   "source": [
    "sorted_ids=sorted(idlist, key=str.lower)"
   ]
  },
  {
   "cell_type": "markdown",
   "metadata": {},
   "source": [
    "We now import the files from the sorted collection produced from the bamCoverage output, and renae them using the list of name we just created. It is important to add the extension so that the type of file is identified. "
   ]
  },
  {
   "cell_type": "code",
   "execution_count": 8,
   "metadata": {},
   "outputs": [],
   "source": [
    "for i in range(2027,2110):\n",
    "    get(i)\n",
    "    os.rename(str(i),sorted_ids[i-2027]+'.bigwig')"
   ]
  },
  {
   "cell_type": "markdown",
   "metadata": {},
   "source": [
    "We now use the make_tracks_file program to create the configuration file for the image. the \"!\" at the beginning of the line indicate we are running a bash command. We are passing all the files with the extension bigwig as trackFiles argument and trakx.ini as the configuration file."
   ]
  },
  {
   "cell_type": "code",
   "execution_count": 13,
   "metadata": {
    "collapsed": true
   },
   "outputs": [
    {
     "name": "stdout",
     "output_type": "stream",
     "text": [
      "Adding bigwig file: SRR5363633_wtPA14.bigwig\r\n",
      "Adding bigwig file: SRR5363634_con10.bigwig\r\n",
      "Adding bigwig file: SRR5363635_con9.bigwig\r\n",
      "Adding bigwig file: SRR5363636_con8.bigwig\r\n",
      "Adding bigwig file: SRR5363637_con7.bigwig\r\n",
      "Adding bigwig file: SRR5363638_con6.bigwig\r\n",
      "Adding bigwig file: SRR5363639_con5.bigwig\r\n",
      "Adding bigwig file: SRR5363640_con4.bigwig\r\n",
      "Adding bigwig file: SRR5363641_con3.bigwig\r\n",
      "Adding bigwig file: SRR5363642_con2.bigwig\r\n",
      "Adding bigwig file: SRR5363643_con1.bigwig\r\n",
      "Adding bigwig file: SRR5363644_str10.bigwig\r\n",
      "Adding bigwig file: SRR5363645_str9.bigwig\r\n",
      "Adding bigwig file: SRR5363646_str8.bigwig\r\n",
      "Adding bigwig file: SRR5363647_str7.bigwig\r\n",
      "Adding bigwig file: SRR5363648_str6.bigwig\r\n",
      "Adding bigwig file: SRR5363649_str5.bigwig\r\n",
      "Adding bigwig file: SRR5363650_str4.bigwig\r\n",
      "Adding bigwig file: SRR5363651_str3.bigwig\r\n",
      "Adding bigwig file: SRR5363652_str2.bigwig\r\n",
      "Adding bigwig file: SRR5363653_str1.bigwig\r\n",
      "Adding bigwig file: SRR5363654_gen10.bigwig\r\n",
      "Adding bigwig file: SRR5363655_gen9.bigwig\r\n",
      "Adding bigwig file: SRR5363656_gen8.bigwig\r\n",
      "Adding bigwig file: SRR5363657_gen7.bigwig\r\n",
      "Adding bigwig file: SRR5363658_gen6.bigwig\r\n",
      "Adding bigwig file: SRR5363659_gen5.bigwig\r\n",
      "Adding bigwig file: SRR5363660_gen4.bigwig\r\n",
      "Adding bigwig file: SRR5363661_gen3.bigwig\r\n",
      "Adding bigwig file: SRR5363662_gen2.bigwig\r\n",
      "Adding bigwig file: SRR5363663_gen1.bigwig\r\n",
      "Adding bigwig file: SRR5363664_pit9.bigwig\r\n",
      "Adding bigwig file: SRR5363665_pit10.bigwig\r\n",
      "Adding bigwig file: SRR5363666_pit8.bigwig\r\n",
      "Adding bigwig file: SRR5363667_pit7.bigwig\r\n",
      "Adding bigwig file: SRR5363668_pit6.bigwig\r\n",
      "Adding bigwig file: SRR5363669_pit5.bigwig\r\n",
      "Adding bigwig file: SRR5363670_pit4.bigwig\r\n",
      "Adding bigwig file: SRR5363671_pit3.bigwig\r\n",
      "Adding bigwig file: SRR5363672_pit2.bigwig\r\n",
      "Adding bigwig file: SRR5363673_pit1.bigwig\r\n",
      "Adding bigwig file: SRR5363674_car10.bigwig\r\n",
      "Adding bigwig file: SRR5363675_car9.bigwig\r\n",
      "Adding bigwig file: SRR5363676_car8.bigwig\r\n",
      "Adding bigwig file: SRR5363677_car7.bigwig\r\n",
      "Adding bigwig file: SRR5363678_car6.bigwig\r\n",
      "Adding bigwig file: SRR5363679_car5.bigwig\r\n",
      "Adding bigwig file: SRR5363680_car4.bigwig\r\n",
      "Adding bigwig file: SRR5363681_car3.bigwig\r\n",
      "Adding bigwig file: SRR5363682_car2.bigwig\r\n",
      "Adding bigwig file: SRR5363683_car1.bigwig\r\n",
      "Adding bigwig file: SRR5363684_cef10.bigwig\r\n",
      "Adding bigwig file: SRR5363685_cef9.bigwig\r\n",
      "Adding bigwig file: SRR5363686_cef8.bigwig\r\n",
      "Adding bigwig file: SRR5363687_cef7.bigwig\r\n",
      "Adding bigwig file: SRR5363688_cef6.bigwig\r\n",
      "Adding bigwig file: SRR5363689_cef5.bigwig\r\n",
      "Adding bigwig file: SRR5363690_cef4.bigwig\r\n",
      "Adding bigwig file: SRR5363691_cef3.bigwig\r\n",
      "Adding bigwig file: SRR5363692_cef2.bigwig\r\n",
      "Adding bigwig file: SRR5363693_cef1.bigwig\r\n",
      "Adding bigwig file: SRR5363694_imi2.bigwig\r\n",
      "Adding bigwig file: SRR5363695_imi1.bigwig\r\n",
      "Adding bigwig file: SRR5363696_dor10.bigwig\r\n",
      "Adding bigwig file: SRR5363697_dor9.bigwig\r\n",
      "Adding bigwig file: SRR5363698_dor8.bigwig\r\n",
      "Adding bigwig file: SRR5363699_dor7.bigwig\r\n",
      "Adding bigwig file: SRR5363700_dor6.bigwig\r\n",
      "Adding bigwig file: SRR5363701_dor5.bigwig\r\n",
      "Adding bigwig file: SRR5363702_dor4.bigwig\r\n",
      "Adding bigwig file: SRR5363703_dor3.bigwig\r\n",
      "Adding bigwig file: SRR5363704_dor2.bigwig\r\n",
      "Adding bigwig file: SRR5363705_dor1.bigwig\r\n",
      "Adding bigwig file: SRR5363706_cip10.bigwig\r\n",
      "Adding bigwig file: SRR5363707_cip9.bigwig\r\n",
      "Adding bigwig file: SRR5363708_cip8.bigwig\r\n",
      "Adding bigwig file: SRR5363709_cip7.bigwig\r\n",
      "Adding bigwig file: SRR5363710_cip6.bigwig\r\n",
      "Adding bigwig file: SRR5363711_cip5.bigwig\r\n",
      "Adding bigwig file: SRR5363712_cip4.bigwig\r\n",
      "Adding bigwig file: SRR5363713_cip3.bigwig\r\n",
      "Adding bigwig file: SRR5363714_cip2.bigwig\r\n",
      "Adding bigwig file: SRR5363715_cip1.bigwig\r\n"
     ]
    }
   ],
   "source": [
    "!make_tracks_file --trackFiles  *.bigwig -o tracks.ini"
   ]
  },
  {
   "cell_type": "markdown",
   "metadata": {},
   "source": [
    "Now that we added our tracks to the configuration file, we are using the tool pyGenomeTracks to generate an immage. We give it as input the configuration file we generated earlier, the region we want to be displayed, and the width of the image. "
   ]
  },
  {
   "cell_type": "code",
   "execution_count": 14,
   "metadata": {
    "collapsed": true
   },
   "outputs": [
    {
     "name": "stdout",
     "output_type": "stream",
     "text": [
      "INFO:pygenometracks.tracksClass:time initializing track(s):\n",
      "INFO:pygenometracks.tracksClass:0.449484825134\n",
      "DEBUG:pygenometracks.tracksClass:Figure size in cm is 50.0 x 168.0. Dpi is set to 72\n",
      "\n",
      "DEBUG:pygenometracks.tracksClass:plotting SRR5363633_wtPA14.bigwig\n",
      "DEBUG:pygenometracks.tracksClass:plotting SRR5363634_con10.bigwig\n",
      "DEBUG:pygenometracks.tracksClass:plotting SRR5363635_con9.bigwig\n",
      "DEBUG:pygenometracks.tracksClass:plotting SRR5363636_con8.bigwig\n",
      "DEBUG:pygenometracks.tracksClass:plotting SRR5363637_con7.bigwig\n",
      "DEBUG:pygenometracks.tracksClass:plotting SRR5363638_con6.bigwig\n",
      "DEBUG:pygenometracks.tracksClass:plotting SRR5363639_con5.bigwig\n",
      "DEBUG:pygenometracks.tracksClass:plotting SRR5363640_con4.bigwig\n",
      "DEBUG:pygenometracks.tracksClass:plotting SRR5363641_con3.bigwig\n",
      "DEBUG:pygenometracks.tracksClass:plotting SRR5363642_con2.bigwig\n",
      "DEBUG:pygenometracks.tracksClass:plotting SRR5363643_con1.bigwig\n",
      "DEBUG:pygenometracks.tracksClass:plotting SRR5363644_str10.bigwig\n",
      "DEBUG:pygenometracks.tracksClass:plotting SRR5363645_str9.bigwig\n",
      "DEBUG:pygenometracks.tracksClass:plotting SRR5363646_str8.bigwig\n",
      "DEBUG:pygenometracks.tracksClass:plotting SRR5363647_str7.bigwig\n",
      "DEBUG:pygenometracks.tracksClass:plotting SRR5363648_str6.bigwig\n",
      "DEBUG:pygenometracks.tracksClass:plotting SRR5363649_str5.bigwig\n",
      "DEBUG:pygenometracks.tracksClass:plotting SRR5363650_str4.bigwig\n",
      "DEBUG:pygenometracks.tracksClass:plotting SRR5363651_str3.bigwig\n",
      "DEBUG:pygenometracks.tracksClass:plotting SRR5363652_str2.bigwig\n",
      "DEBUG:pygenometracks.tracksClass:plotting SRR5363653_str1.bigwig\n",
      "DEBUG:pygenometracks.tracksClass:plotting SRR5363654_gen10.bigwig\n",
      "DEBUG:pygenometracks.tracksClass:plotting SRR5363655_gen9.bigwig\n",
      "DEBUG:pygenometracks.tracksClass:plotting SRR5363656_gen8.bigwig\n",
      "DEBUG:pygenometracks.tracksClass:plotting SRR5363657_gen7.bigwig\n",
      "DEBUG:pygenometracks.tracksClass:plotting SRR5363658_gen6.bigwig\n",
      "DEBUG:pygenometracks.tracksClass:plotting SRR5363659_gen5.bigwig\n",
      "DEBUG:pygenometracks.tracksClass:plotting SRR5363660_gen4.bigwig\n",
      "DEBUG:pygenometracks.tracksClass:plotting SRR5363661_gen3.bigwig\n",
      "DEBUG:pygenometracks.tracksClass:plotting SRR5363662_gen2.bigwig\n",
      "DEBUG:pygenometracks.tracksClass:plotting SRR5363663_gen1.bigwig\n",
      "DEBUG:pygenometracks.tracksClass:plotting SRR5363664_pit9.bigwig\n",
      "DEBUG:pygenometracks.tracksClass:plotting SRR5363665_pit10.bigwig\n",
      "DEBUG:pygenometracks.tracksClass:plotting SRR5363666_pit8.bigwig\n",
      "DEBUG:pygenometracks.tracksClass:plotting SRR5363667_pit7.bigwig\n",
      "DEBUG:pygenometracks.tracksClass:plotting SRR5363668_pit6.bigwig\n",
      "DEBUG:pygenometracks.tracksClass:plotting SRR5363669_pit5.bigwig\n",
      "DEBUG:pygenometracks.tracksClass:plotting SRR5363670_pit4.bigwig\n",
      "DEBUG:pygenometracks.tracksClass:plotting SRR5363671_pit3.bigwig\n",
      "DEBUG:pygenometracks.tracksClass:plotting SRR5363672_pit2.bigwig\n",
      "DEBUG:pygenometracks.tracksClass:plotting SRR5363673_pit1.bigwig\n",
      "DEBUG:pygenometracks.tracksClass:plotting SRR5363674_car10.bigwig\n",
      "DEBUG:pygenometracks.tracksClass:plotting SRR5363675_car9.bigwig\n",
      "DEBUG:pygenometracks.tracksClass:plotting SRR5363676_car8.bigwig\n",
      "DEBUG:pygenometracks.tracksClass:plotting SRR5363677_car7.bigwig\n",
      "DEBUG:pygenometracks.tracksClass:plotting SRR5363678_car6.bigwig\n",
      "DEBUG:pygenometracks.tracksClass:plotting SRR5363679_car5.bigwig\n",
      "DEBUG:pygenometracks.tracksClass:plotting SRR5363680_car4.bigwig\n",
      "DEBUG:pygenometracks.tracksClass:plotting SRR5363681_car3.bigwig\n",
      "DEBUG:pygenometracks.tracksClass:plotting SRR5363682_car2.bigwig\n",
      "DEBUG:pygenometracks.tracksClass:plotting SRR5363683_car1.bigwig\n",
      "DEBUG:pygenometracks.tracksClass:plotting SRR5363684_cef10.bigwig\n",
      "DEBUG:pygenometracks.tracksClass:plotting SRR5363685_cef9.bigwig\n",
      "DEBUG:pygenometracks.tracksClass:plotting SRR5363686_cef8.bigwig\n",
      "DEBUG:pygenometracks.tracksClass:plotting SRR5363687_cef7.bigwig\n",
      "DEBUG:pygenometracks.tracksClass:plotting SRR5363688_cef6.bigwig\n",
      "DEBUG:pygenometracks.tracksClass:plotting SRR5363689_cef5.bigwig\n",
      "DEBUG:pygenometracks.tracksClass:plotting SRR5363690_cef4.bigwig\n",
      "DEBUG:pygenometracks.tracksClass:plotting SRR5363691_cef3.bigwig\n",
      "DEBUG:pygenometracks.tracksClass:plotting SRR5363692_cef2.bigwig\n",
      "DEBUG:pygenometracks.tracksClass:plotting SRR5363693_cef1.bigwig\n",
      "DEBUG:pygenometracks.tracksClass:plotting SRR5363694_imi2.bigwig\n",
      "DEBUG:pygenometracks.tracksClass:plotting SRR5363695_imi1.bigwig\n",
      "DEBUG:pygenometracks.tracksClass:plotting SRR5363696_dor10.bigwig\n",
      "DEBUG:pygenometracks.tracksClass:plotting SRR5363697_dor9.bigwig\n",
      "DEBUG:pygenometracks.tracksClass:plotting SRR5363698_dor8.bigwig\n",
      "DEBUG:pygenometracks.tracksClass:plotting SRR5363699_dor7.bigwig\n",
      "DEBUG:pygenometracks.tracksClass:plotting SRR5363700_dor6.bigwig\n",
      "DEBUG:pygenometracks.tracksClass:plotting SRR5363701_dor5.bigwig\n",
      "DEBUG:pygenometracks.tracksClass:plotting SRR5363702_dor4.bigwig\n",
      "DEBUG:pygenometracks.tracksClass:plotting SRR5363703_dor3.bigwig\n",
      "DEBUG:pygenometracks.tracksClass:plotting SRR5363704_dor2.bigwig\n",
      "DEBUG:pygenometracks.tracksClass:plotting SRR5363705_dor1.bigwig\n",
      "DEBUG:pygenometracks.tracksClass:plotting SRR5363706_cip10.bigwig\n",
      "DEBUG:pygenometracks.tracksClass:plotting SRR5363707_cip9.bigwig\n",
      "DEBUG:pygenometracks.tracksClass:plotting SRR5363708_cip8.bigwig\n",
      "DEBUG:pygenometracks.tracksClass:plotting SRR5363709_cip7.bigwig\n",
      "DEBUG:pygenometracks.tracksClass:plotting SRR5363710_cip6.bigwig\n",
      "DEBUG:pygenometracks.tracksClass:plotting SRR5363711_cip5.bigwig\n",
      "DEBUG:pygenometracks.tracksClass:plotting SRR5363712_cip4.bigwig\n",
      "DEBUG:pygenometracks.tracksClass:plotting SRR5363713_cip3.bigwig\n",
      "DEBUG:pygenometracks.tracksClass:plotting SRR5363714_cip2.bigwig\n",
      "DEBUG:pygenometracks.tracksClass:plotting SRR5363715_cip1.bigwig\n"
     ]
    }
   ],
   "source": [
    "!pyGenomeTracks --tracks tracks.ini --region 'NC_008463:0-3400000'  --width 50 --outFileName nice_image.png"
   ]
  },
  {
   "cell_type": "markdown",
   "metadata": {},
   "source": [
    "Now that we produced the image we are sending it to the history."
   ]
  },
  {
   "cell_type": "code",
   "execution_count": 15,
   "metadata": {},
   "outputs": [],
   "source": [
    "put('nice_image.png')\n"
   ]
  }
 ],
 "metadata": {
  "kernelspec": {
   "display_name": "Python 2",
   "language": "python",
   "name": "python2"
  },
  "language_info": {
   "codemirror_mode": {
    "name": "ipython",
    "version": 2
   },
   "file_extension": ".py",
   "mimetype": "text/x-python",
   "name": "python",
   "nbconvert_exporter": "python",
   "pygments_lexer": "ipython2",
   "version": "2.7.14"
  }
 },
 "nbformat": 4,
 "nbformat_minor": 1
}
