{
 "cells": [
  {
   "cell_type": "markdown",
   "metadata": {},
   "source": [
    "# Analyse of highly mutated samples (long branch support) in cef experiment"
   ]
  },
  {
   "cell_type": "markdown",
   "metadata": {},
   "source": [
    "We noticed from the trees that despite most of the branch bein very short due to the proximity of all samples, three samples have distinctively longer branches. We want to investigate why thesesamples are so different from the others."
   ]
  },
  {
   "cell_type": "code",
   "execution_count": 1,
   "metadata": {
    "scrolled": true
   },
   "outputs": [
    {
     "name": "stdout",
     "output_type": "stream",
     "text": [
      "Fetching package metadata ...........\n",
      "Solving package specifications: ..........\n",
      "\n",
      "Package plan for installation in environment /opt/conda/envs/python2:\n",
      "\n",
      "The following packages will be downloaded:\n",
      "\n",
      "    package                    |            build\n",
      "    ---------------------------|-----------------\n",
      "    pandasql-0.7.3             |           py27_0          26 KB\n",
      "\n",
      "The following NEW packages will be INSTALLED:\n",
      "\n",
      "    pandasql: 0.7.3-py27_0\n",
      "\n",
      "Fetching packages ...\n",
      "pandasql-0.7.3 100% |################################| Time: 0:00:00   9.36 MB/s\n",
      "Extracting packages ...\n",
      "[      COMPLETE      ]|###################################################| 100%\n",
      "Linking packages ...\n",
      "[      COMPLETE      ]|###################################################| 100%\n",
      "Fetching package metadata ...........\n",
      "Solving package specifications: ..........\n",
      "\n",
      "Package plan for installation in environment /opt/conda/envs/python2:\n",
      "\n",
      "The following packages will be downloaded:\n",
      "\n",
      "    package                    |            build\n",
      "    ---------------------------|-----------------\n",
      "    qt-5.6.2                   |                3        44.7 MB  conda-forge\n",
      "    pyqt-5.6.0                 |           py27_5         5.2 MB  conda-forge\n",
      "    seaborn-0.8.1              |           py27_0         333 KB  conda-forge\n",
      "    ------------------------------------------------------------\n",
      "                                           Total:        50.3 MB\n",
      "\n",
      "The following NEW packages will be INSTALLED:\n",
      "\n",
      "    pyqt:    5.6.0-py27_5 conda-forge\n",
      "    qt:      5.6.2-3      conda-forge\n",
      "\n",
      "The following packages will be UPDATED:\n",
      "\n",
      "    seaborn: 0.7.1-py27_0 conda-forge --> 0.8.1-py27_0 conda-forge\n",
      "\n",
      "Fetching packages ...\n",
      "qt-5.6.2-3.tar 100% |################################| Time: 0:01:15 624.50 kB/s\n",
      "pyqt-5.6.0-py2 100% |################################| Time: 0:00:23 239.26 kB/s\n",
      "seaborn-0.8.1- 100% |################################| Time: 0:00:01 313.14 kB/s\n",
      "Extracting packages ...\n",
      "[      COMPLETE      ]|###################################################| 100%\n",
      "Unlinking packages ...\n",
      "[      COMPLETE      ]|###################################################| 100%\n",
      "Linking packages ...\n",
      "[      COMPLETE      ]|###################################################| 100%\n"
     ]
    }
   ],
   "source": [
    "!conda install -y pandasql\n",
    "!conda install -y -c conda-forge seaborn "
   ]
  },
  {
   "cell_type": "code",
   "execution_count": 6,
   "metadata": {
    "collapsed": true
   },
   "outputs": [],
   "source": [
    "import pandas as pd\n",
    "from pandasql import *\n",
    "from IPython.display import display\n",
    "import matplotlib.pyplot as plt\n",
    "import numpy as np\n",
    "import matplotlib as mpl\n",
    "import matplotlib.pyplot as plt\n",
    "import seaborn as sns\n",
    "import re\n",
    "from Bio import SeqIO"
   ]
  },
  {
   "cell_type": "code",
   "execution_count": 4,
   "metadata": {
    "collapsed": true
   },
   "outputs": [],
   "source": [
    "pysqldf = lambda q: sqldf(q, globals())\n"
   ]
  },
  {
   "cell_type": "markdown",
   "metadata": {},
   "source": [
    "We start with importing the collapsed collection of snpsift output files and replacing caracters that could cause problems in the future analysis."
   ]
  },
  {
   "cell_type": "code",
   "execution_count": 3,
   "metadata": {
    "collapsed": true,
    "scrolled": true
   },
   "outputs": [],
   "source": [
    "collapsed_all = pd.read_table(get(1766))\n",
    "var=collapsed_all.rename(index=str, columns={\"EFF[*].CODON\":\"CODON\",\"EFF[*].GENE\":\"GENE\",\"EFF[*].EFFECT\":\"EFFECT\",\"EFF[*].EFFECT\":\"EFFECT\",\"EFF[*].AA\":\"AA\",\"EFF[*].IMPACT\":\"IMPACT\",\"EFF[*].IMPACT.1\":\"IMPACT1\", \"EFF[*].FUNCLASS\" :\"FUNCLASS\"})\n",
    "var['condition']=\"NaN\"\n",
    "for i, row in var.iterrows() :\n",
    "    var.loc[i,('condition')]=row['Sample'].split('_')[1].replace(\".fq\",\"\")\n",
    "    "
   ]
  },
  {
   "cell_type": "markdown",
   "metadata": {},
   "source": [
    "We import the reference genbank file to get the functionnal information about the gene impacted by the variants."
   ]
  },
  {
   "cell_type": "code",
   "execution_count": 7,
   "metadata": {},
   "outputs": [],
   "source": [
    "\n",
    "# get all sequence records for the specified genbank file\n",
    "recs = [rec for rec in SeqIO.parse(get(169), \"genbank\")]\n"
   ]
  },
  {
   "cell_type": "markdown",
   "metadata": {},
   "source": [
    "We parse the file to add information about the gene product in the dataframe"
   ]
  },
  {
   "cell_type": "code",
   "execution_count": 8,
   "metadata": {
    "collapsed": true
   },
   "outputs": [],
   "source": [
    "dicFunctAll={}\n",
    "for rec in recs:\n",
    "    feats = [feat for feat in rec.features if feat.type == \"CDS\"]\n",
    "    for feat in feats:\n",
    "        dicFunctAll[feat.qualifiers['locus_tag'][0]]=feat.qualifiers['product'][0]\n",
    "\n",
    "var[\"product\"]=\"NaN\"\n",
    "for i, row in var.iterrows() :\n",
    "    locusTag=row['GENE'].split(\",\")[0]\n",
    "    if locusTag in dicFunctAll.keys():\n",
    "        var.loc[i,('product')]=dicFunctAll[locusTag]"
   ]
  },
  {
   "cell_type": "markdown",
   "metadata": {},
   "source": [
    "Let's take a look at our data : we now have a collumn product containing the annotation information got from the genbank file."
   ]
  },
  {
   "cell_type": "code",
   "execution_count": 9,
   "metadata": {
    "scrolled": true
   },
   "outputs": [
    {
     "data": {
      "text/html": [
       "<div>\n",
       "<table border=\"1\" class=\"dataframe\">\n",
       "  <thead>\n",
       "    <tr style=\"text-align: right;\">\n",
       "      <th></th>\n",
       "      <th>Sample</th>\n",
       "      <th>CHROM</th>\n",
       "      <th>POS</th>\n",
       "      <th>REF</th>\n",
       "      <th>ALT</th>\n",
       "      <th>QUAL</th>\n",
       "      <th>SAF</th>\n",
       "      <th>SAR</th>\n",
       "      <th>SRF</th>\n",
       "      <th>SRR</th>\n",
       "      <th>...</th>\n",
       "      <th>DP</th>\n",
       "      <th>EFF[*].GENEID</th>\n",
       "      <th>GENE</th>\n",
       "      <th>EFFECT</th>\n",
       "      <th>AA</th>\n",
       "      <th>IMPACT</th>\n",
       "      <th>FUNCLASS</th>\n",
       "      <th>SB</th>\n",
       "      <th>condition</th>\n",
       "      <th>product</th>\n",
       "    </tr>\n",
       "  </thead>\n",
       "  <tbody>\n",
       "    <tr>\n",
       "      <th>0</th>\n",
       "      <td>SRR5363633_wtP.fq</td>\n",
       "      <td>NC_008463</td>\n",
       "      <td>41753</td>\n",
       "      <td>TCGG</td>\n",
       "      <td>CCGA</td>\n",
       "      <td>1569.14</td>\n",
       "      <td>118</td>\n",
       "      <td>84</td>\n",
       "      <td>0</td>\n",
       "      <td>0</td>\n",
       "      <td>...</td>\n",
       "      <td>202</td>\n",
       "      <td>.</td>\n",
       "      <td>PA14_00490</td>\n",
       "      <td>synonymous_variant</td>\n",
       "      <td>p.209/c.621_624delTCGGinsCCGA</td>\n",
       "      <td>LOW</td>\n",
       "      <td>NONE</td>\n",
       "      <td>0.0</td>\n",
       "      <td>wtP</td>\n",
       "      <td>hemolysin activation/secretion protein</td>\n",
       "    </tr>\n",
       "    <tr>\n",
       "      <th>1</th>\n",
       "      <td>SRR5363633_wtP.fq</td>\n",
       "      <td>NC_008463</td>\n",
       "      <td>72440</td>\n",
       "      <td>T</td>\n",
       "      <td>C</td>\n",
       "      <td>12141.90</td>\n",
       "      <td>232</td>\n",
       "      <td>147</td>\n",
       "      <td>0</td>\n",
       "      <td>0</td>\n",
       "      <td>...</td>\n",
       "      <td>379</td>\n",
       "      <td>.</td>\n",
       "      <td>PA14_00740</td>\n",
       "      <td>missense_variant</td>\n",
       "      <td>p.Lys132Glu/c.394A&gt;G</td>\n",
       "      <td>MODERATE</td>\n",
       "      <td>MISSENSE</td>\n",
       "      <td>0.0</td>\n",
       "      <td>wtP</td>\n",
       "      <td>lipoprotein</td>\n",
       "    </tr>\n",
       "    <tr>\n",
       "      <th>2</th>\n",
       "      <td>SRR5363633_wtP.fq</td>\n",
       "      <td>NC_008463</td>\n",
       "      <td>96307</td>\n",
       "      <td>A</td>\n",
       "      <td>C</td>\n",
       "      <td>11087.10</td>\n",
       "      <td>94</td>\n",
       "      <td>247</td>\n",
       "      <td>0</td>\n",
       "      <td>0</td>\n",
       "      <td>...</td>\n",
       "      <td>341</td>\n",
       "      <td>.</td>\n",
       "      <td>PA14_00970</td>\n",
       "      <td>synonymous_variant</td>\n",
       "      <td>p.Pro49Pro/c.147T&gt;G</td>\n",
       "      <td>LOW</td>\n",
       "      <td>SILENT</td>\n",
       "      <td>0.0</td>\n",
       "      <td>wtP</td>\n",
       "      <td>hypothetical protein</td>\n",
       "    </tr>\n",
       "    <tr>\n",
       "      <th>3</th>\n",
       "      <td>SRR5363633_wtP.fq</td>\n",
       "      <td>NC_008463</td>\n",
       "      <td>96350</td>\n",
       "      <td>TTGTCCAGCGT</td>\n",
       "      <td>CTGGCCCGCGC</td>\n",
       "      <td>9875.42</td>\n",
       "      <td>97</td>\n",
       "      <td>150</td>\n",
       "      <td>0</td>\n",
       "      <td>0</td>\n",
       "      <td>...</td>\n",
       "      <td>250</td>\n",
       "      <td>.</td>\n",
       "      <td>PA14_00970</td>\n",
       "      <td>missense_variant</td>\n",
       "      <td>p.ThrLeuAspAsn32AlaArgAlaSer/c.94_104delACGCTG...</td>\n",
       "      <td>MODERATE</td>\n",
       "      <td>NONE</td>\n",
       "      <td>0.0</td>\n",
       "      <td>wtP</td>\n",
       "      <td>hypothetical protein</td>\n",
       "    </tr>\n",
       "    <tr>\n",
       "      <th>4</th>\n",
       "      <td>SRR5363633_wtP.fq</td>\n",
       "      <td>NC_008463</td>\n",
       "      <td>96391</td>\n",
       "      <td>ACA</td>\n",
       "      <td>GCC</td>\n",
       "      <td>7932.23</td>\n",
       "      <td>108</td>\n",
       "      <td>145</td>\n",
       "      <td>0</td>\n",
       "      <td>0</td>\n",
       "      <td>...</td>\n",
       "      <td>253</td>\n",
       "      <td>.</td>\n",
       "      <td>PA14_00970</td>\n",
       "      <td>missense_variant</td>\n",
       "      <td>p.Cys21Gly/c.61_63delTGTinsGGC</td>\n",
       "      <td>MODERATE</td>\n",
       "      <td>NONE</td>\n",
       "      <td>0.0</td>\n",
       "      <td>wtP</td>\n",
       "      <td>hypothetical protein</td>\n",
       "    </tr>\n",
       "  </tbody>\n",
       "</table>\n",
       "<p>5 rows × 23 columns</p>\n",
       "</div>"
      ],
      "text/plain": [
       "              Sample      CHROM    POS          REF          ALT      QUAL  \\\n",
       "0  SRR5363633_wtP.fq  NC_008463  41753         TCGG         CCGA   1569.14   \n",
       "1  SRR5363633_wtP.fq  NC_008463  72440            T            C  12141.90   \n",
       "2  SRR5363633_wtP.fq  NC_008463  96307            A            C  11087.10   \n",
       "3  SRR5363633_wtP.fq  NC_008463  96350  TTGTCCAGCGT  CTGGCCCGCGC   9875.42   \n",
       "4  SRR5363633_wtP.fq  NC_008463  96391          ACA          GCC   7932.23   \n",
       "\n",
       "   SAF  SAR  SRF  SRR                   ...                     DP  \\\n",
       "0  118   84    0    0                   ...                    202   \n",
       "1  232  147    0    0                   ...                    379   \n",
       "2   94  247    0    0                   ...                    341   \n",
       "3   97  150    0    0                   ...                    250   \n",
       "4  108  145    0    0                   ...                    253   \n",
       "\n",
       "   EFF[*].GENEID        GENE              EFFECT  \\\n",
       "0              .  PA14_00490  synonymous_variant   \n",
       "1              .  PA14_00740    missense_variant   \n",
       "2              .  PA14_00970  synonymous_variant   \n",
       "3              .  PA14_00970    missense_variant   \n",
       "4              .  PA14_00970    missense_variant   \n",
       "\n",
       "                                                  AA    IMPACT  FUNCLASS   SB  \\\n",
       "0                      p.209/c.621_624delTCGGinsCCGA       LOW      NONE  0.0   \n",
       "1                               p.Lys132Glu/c.394A>G  MODERATE  MISSENSE  0.0   \n",
       "2                                p.Pro49Pro/c.147T>G       LOW    SILENT  0.0   \n",
       "3  p.ThrLeuAspAsn32AlaArgAlaSer/c.94_104delACGCTG...  MODERATE      NONE  0.0   \n",
       "4                     p.Cys21Gly/c.61_63delTGTinsGGC  MODERATE      NONE  0.0   \n",
       "\n",
       "  condition                                 product  \n",
       "0       wtP  hemolysin activation/secretion protein  \n",
       "1       wtP                             lipoprotein  \n",
       "2       wtP                    hypothetical protein  \n",
       "3       wtP                    hypothetical protein  \n",
       "4       wtP                    hypothetical protein  \n",
       "\n",
       "[5 rows x 23 columns]"
      ]
     },
     "execution_count": 9,
     "metadata": {},
     "output_type": "execute_result"
    }
   ],
   "source": [
    "var.head()"
   ]
  },
  {
   "cell_type": "markdown",
   "metadata": {},
   "source": [
    "Let's now explore our data. We start by creating a sub sample of the dataframe containing only the conditions we want to explore for easier manupulation.\n"
   ]
  },
  {
   "cell_type": "code",
   "execution_count": 10,
   "metadata": {
    "collapsed": true
   },
   "outputs": [],
   "source": [
    "interestCond=pysqldf(\"SELECT * FROM var WHERE condition='cef' AND SB<2\")"
   ]
  },
  {
   "cell_type": "markdown",
   "metadata": {},
   "source": [
    "Let's count how many genes and positions are affected by sample."
   ]
  },
  {
   "cell_type": "code",
   "execution_count": 13,
   "metadata": {},
   "outputs": [
    {
     "name": "stdout",
     "output_type": "stream",
     "text": [
      "Sample\n",
      "SRR5363684_cef.fq     72\n",
      "SRR5363685_cef.fq     75\n",
      "SRR5363686_cef.fq     74\n",
      "SRR5363687_cef.fq     72\n",
      "SRR5363688_cef.fq     74\n",
      "SRR5363689_cef.fq    154\n",
      "SRR5363690_cef.fq     72\n",
      "SRR5363691_cef.fq    176\n",
      "SRR5363692_cef.fq     81\n",
      "SRR5363693_cef.fq     76\n",
      "Name: GENE, dtype: int64\n"
     ]
    },
    {
     "data": {
      "image/png": "[encoded data removed]",
      "text/plain": [
       "<matplotlib.figure.Figure at 0x7f6c5c458e50>"
      ]
     },
     "metadata": {},
     "output_type": "display_data"
    }
   ],
   "source": [
    "print pysqldf(\"SELECT * FROM interestCond WHERE condition='cef'\").groupby(\"Sample\")['GENE'].nunique()\n",
    "fig, ax = plt.subplots( nrows=1, ncols=1 ,figsize=(15, 4) )  # create figure & 1 axis\n",
    "pysqldf(\"SELECT * FROM interestCond WHERE condition='cef'\").groupby(\"Sample\")['GENE'].nunique().plot.bar()\n",
    "display(fig)"
   ]
  },
  {
   "cell_type": "code",
   "execution_count": 14,
   "metadata": {},
   "outputs": [
    {
     "name": "stdout",
     "output_type": "stream",
     "text": [
      "Sample\n",
      "SRR5363684_cef.fq    201\n",
      "SRR5363685_cef.fq    203\n",
      "SRR5363686_cef.fq    195\n",
      "SRR5363687_cef.fq    199\n",
      "SRR5363688_cef.fq    198\n",
      "SRR5363689_cef.fq    309\n",
      "SRR5363690_cef.fq    201\n",
      "SRR5363691_cef.fq    320\n",
      "SRR5363692_cef.fq    213\n",
      "SRR5363693_cef.fq    204\n",
      "Name: POS, dtype: int64\n"
     ]
    },
    {
     "data": {
      "image/png": "[encoded data removed]",
      "text/plain": [
       "<matplotlib.figure.Figure at 0x7f6c5be03b90>"
      ]
     },
     "metadata": {},
     "output_type": "display_data"
    }
   ],
   "source": [
    "print pysqldf(\"SELECT * FROM interestCond WHERE condition='cef'\").groupby(\"Sample\")['POS'].nunique()\n",
    "fig, ax = plt.subplots( nrows=1, ncols=1 ,figsize=(15, 4) )  # create figure & 1 axis\n",
    "pysqldf(\"SELECT * FROM interestCond WHERE condition='cef'\").groupby(\"Sample\")['POS'].nunique().plot.bar()\n",
    "display(fig)"
   ]
  },
  {
   "cell_type": "markdown",
   "metadata": {},
   "source": [
    "We can see that our two samples of interest have a much larger number of variants and gene affected, while the other samples have about the same number of variants. We also notice that SRR5363689_cef and SRR5363691_cef have similar number of variants despite not clustering together on the tree.\n",
    "\n",
    "Let's  continue our exploration."
   ]
  },
  {
   "cell_type": "markdown",
   "metadata": {},
   "source": [
    "Let's remove the variants that are present in the wild type and control to keep onlyt the variants that could be linked to the antibiotic resistance."
   ]
  },
  {
   "cell_type": "code",
   "execution_count": 15,
   "metadata": {
    "collapsed": true
   },
   "outputs": [],
   "source": [
    "controlvarPOS=pysqldf(\"SELECT * FROM var WHERE condition IN ('wtP','con') \")['POS'].unique()\n",
    "controlvarPOS=[str(x) for x in controlvarPOS] \n",
    "interestingVar=pysqldf(\"SELECT * FROM interestCond WHERE POS NOT IN (\"+','.join(controlvarPOS)+\")\")"
   ]
  },
  {
   "cell_type": "markdown",
   "metadata": {},
   "source": [
    "\n",
    "Let's now take a look at the remaining variants"
   ]
  },
  {
   "cell_type": "code",
   "execution_count": 16,
   "metadata": {
    "scrolled": false
   },
   "outputs": [
    {
     "name": "stdout",
     "output_type": "stream",
     "text": [
      "Sample\n",
      "SRR5363684_cef.fq      7\n",
      "SRR5363685_cef.fq     12\n",
      "SRR5363686_cef.fq      8\n",
      "SRR5363687_cef.fq      6\n",
      "SRR5363688_cef.fq      7\n",
      "SRR5363689_cef.fq    131\n",
      "SRR5363690_cef.fq      5\n",
      "SRR5363691_cef.fq    148\n",
      "SRR5363692_cef.fq     21\n",
      "SRR5363693_cef.fq     14\n",
      "Name: POS, dtype: int64\n"
     ]
    },
    {
     "data": {
      "image/png": "[encoded data removed]",
      "text/plain": [
       "<matplotlib.figure.Figure at 0x7f6c5c407910>"
      ]
     },
     "metadata": {},
     "output_type": "display_data"
    }
   ],
   "source": [
    "print pysqldf(\"SELECT * FROM interestingVar\").groupby(\"Sample\")['POS'].nunique()\n",
    "fig, ax = plt.subplots( nrows=1, ncols=1 ,figsize=(15, 4) )  # create figure & 1 axis\n",
    "pysqldf(\"SELECT * FROM interestingVar\").groupby(\"Sample\")['POS'].nunique().plot.bar()\n",
    "display(fig)"
   ]
  },
  {
   "cell_type": "code",
   "execution_count": 17,
   "metadata": {},
   "outputs": [
    {
     "name": "stdout",
     "output_type": "stream",
     "text": [
      "Sample\n",
      "SRR5363684_cef.fq      5\n",
      "SRR5363685_cef.fq      8\n",
      "SRR5363686_cef.fq      8\n",
      "SRR5363687_cef.fq      6\n",
      "SRR5363688_cef.fq      7\n",
      "SRR5363689_cef.fq     93\n",
      "SRR5363690_cef.fq      4\n",
      "SRR5363691_cef.fq    115\n",
      "SRR5363692_cef.fq     14\n",
      "SRR5363693_cef.fq     10\n",
      "Name: GENE, dtype: int64\n"
     ]
    },
    {
     "data": {
      "image/png": "[encoded data removed]",
      "text/plain": [
       "<matplotlib.figure.Figure at 0x7f6c54e9b950>"
      ]
     },
     "metadata": {},
     "output_type": "display_data"
    }
   ],
   "source": [
    "print pysqldf(\"SELECT * FROM interestingVar\").groupby(\"Sample\")['GENE'].nunique()\n",
    "fig, ax = plt.subplots( nrows=1, ncols=1 ,figsize=(15, 4) )  # create figure & 1 axis\n",
    "pysqldf(\"SELECT * FROM interestingVar\").groupby(\"Sample\")['GENE'].nunique().plot.bar()\n",
    "display(fig)"
   ]
  },
  {
   "cell_type": "markdown",
   "metadata": {},
   "source": [
    "We can se that when the other samples have few variations, SRR5363689_cef and SRR5363691_cef have about 150 variants affectig about 120 genes. Let's see if they are affecting the same genes.\n"
   ]
  },
  {
   "cell_type": "code",
   "execution_count": 18,
   "metadata": {},
   "outputs": [
    {
     "data": {
      "text/plain": [
       "array([u'SRR5363684_cef.fq', u'SRR5363685_cef.fq', u'SRR5363686_cef.fq',\n",
       "       u'SRR5363687_cef.fq', u'SRR5363688_cef.fq', u'SRR5363689_cef.fq',\n",
       "       u'SRR5363690_cef.fq', u'SRR5363691_cef.fq', u'SRR5363692_cef.fq',\n",
       "       u'SRR5363693_cef.fq'], dtype=object)"
      ]
     },
     "execution_count": 18,
     "metadata": {},
     "output_type": "execute_result"
    }
   ],
   "source": [
    "interestingVar['Sample'].unique()"
   ]
  },
  {
   "cell_type": "code",
   "execution_count": 19,
   "metadata": {
    "collapsed": true
   },
   "outputs": [],
   "source": [
    "varA=pysqldf(\"SELECT * FROM interestingVar WHERE Sample='SRR5363689_cef.fq'\")\n",
    "varB=pysqldf(\"SELECT * FROM interestingVar WHERE Sample='SRR5363691_cef.fq'\")"
   ]
  },
  {
   "cell_type": "code",
   "execution_count": 20,
   "metadata": {},
   "outputs": [
    {
     "name": "stdout",
     "output_type": "stream",
     "text": [
      "['PA14_29690', '.', 'PA14_40260', 'PA14_43190', 'PA14_46640', 'PA14_48600', 'PA14_22730']\n",
      "['hypothetical protein', 'hypothetical protein', 'oxidoreductase', 'siderophore receptor', 'AMP-binding protein', 'two-component sensor']\n"
     ]
    }
   ],
   "source": [
    "commonVarGenes =  list(set(varB['GENE'].unique()).intersection(varA['GENE'].unique())) #Intersection of gene list between the two samples.\n",
    "commonVarGenes=[str(x) for x in commonVarGenes] \n",
    "commonVarProduct=[dicFunctAll[x] for x in commonVarGenes if x in dicFunctAll.keys()] \n",
    "print commonVarGenes\n",
    "print commonVarProduct"
   ]
  },
  {
   "cell_type": "markdown",
   "metadata": {},
   "source": [
    "We can see that among the 120 gene affected in each sample, they only have 7 genes in common. This result explain why they don't cluster together on the clustering tree. \n",
    "\n",
    "This also show that the variants outside of this list are unlikely to be linked to antibiotic resistance. \n",
    "\n",
    "We are now interested in knowing why these variants show such a high level of mutations.\n",
    "We now want to look at the gene affected to find which could have caused these mutations."
   ]
  },
  {
   "cell_type": "code",
   "execution_count": 21,
   "metadata": {},
   "outputs": [
    {
     "data": {
      "text/plain": [
       "array([u'TssG1', u'NaN',\n",
       "       u'monofunctional biosynthetic peptidoglycan transglycosylase',\n",
       "       u'tail fiber protein', u'hypothetical protein', u'MFS transporter',\n",
       "       u'transcription antitermination protein NusB', u'protein kinase',\n",
       "       u'(dimethylallyl)adenosine tRNA methylthiotransferase',\n",
       "       u'nitrite extrusion protein 1',\n",
       "       u'PTS system N-acetylglucosamine-specific IIBC component',\n",
       "       u'chemotaxis transducer',\n",
       "       u'chemotaxis sensor/effector fusion protein',\n",
       "       u'tetrahydrodipicolinate succinylase', u'ribonuclease HII',\n",
       "       u'DNA mismatch repair protein MutS', u'transcriptional regulator',\n",
       "       u'phosphonate ABC transporter permease', u'two-component sensor',\n",
       "       u'heat-shock protein IbpA', u'pilus assembly protein',\n",
       "       u'oxidoreductase', u'magnesium chelatase',\n",
       "       u'precorrin-3 methylase CobJ',\n",
       "       u'LysR family transcriptional regulator',\n",
       "       u'phenylalanyl-tRNA synthetase subunit beta',\n",
       "       u'NADH dehydrogenase, FAD-containing subunit',\n",
       "       u'sulfur transfer complex subunit TusD', u'acyl-CoA dehydrogenase',\n",
       "       u'TrbI-like protein', u'RadC-like protein', u'aminotransferase',\n",
       "       u'kinase', u'glycine dehydrogenase', u'peptide synthase',\n",
       "       u'ABC maltose/mannitol transporter ATP-binding protein',\n",
       "       u'binding-protein-dependent maltose/mannitol transport protein',\n",
       "       u'beta lactamase', u'GntR family transcriptional regulator',\n",
       "       u'2-oxoisovalerate dehydrogenase subunit beta',\n",
       "       u'trehalose synthase', u'aldehyde dehydrogenase', u'dehydrogenase',\n",
       "       u'permease', u'TonB-dependent receptor',\n",
       "       u'gamma-carboxygeranoyl-CoA hydratase', u'transporter',\n",
       "       u\"pyridoxamine 5'-phosphate oxidase\", u'phosphoserine phosphatase',\n",
       "       u'molybdenum cofactor biosynthesis protein A',\n",
       "       u'autoinducer synthesis protein LasI', u'siderophore receptor',\n",
       "       u'methyl-accepting chemotaxis transducer', u'AMP-binding protein',\n",
       "       u'C32 tRNA thiolase', u'C4-dicarboxylate transporter DctA',\n",
       "       u'acyltransferase', u'type II secretion system protein',\n",
       "       u'penicillin-binding protein 3', u'lipoprotein',\n",
       "       u'phosphoribosylamine--glycine ligase',\n",
       "       u'alginate biosynthesis protein AlgZ/FimS', u'phosphomannomutase',\n",
       "       u'3-hydroxybutyryl-CoA dehydrogenase'], dtype=object)"
      ]
     },
     "execution_count": 21,
     "metadata": {},
     "output_type": "execute_result"
    }
   ],
   "source": [
    "varA['product'].unique()"
   ]
  },
  {
   "cell_type": "code",
   "execution_count": 22,
   "metadata": {
    "scrolled": false
   },
   "outputs": [
    {
     "data": {
      "text/plain": [
       "array([u'epsilon subunit of malonate decarboxylase',\n",
       "       u'ArsR family transcriptional regulator',\n",
       "       u'deoxyribonucleotide triphosphate pyrophosphatase',\n",
       "       u'methylesterase', u'hypothetical protein',\n",
       "       u'phosphate transporter', u'NaN', u'two-component sensor',\n",
       "       u'transmembrane sensor', u'outer membrane protein',\n",
       "       u'nucleoid-associated protein NdpA', u'enoyl-CoA hydratase',\n",
       "       u'bifunctional UDP-glucuronic acid decarboxylase/UDP-4-amino-4-deoxy-L-arabinose formyltransferase',\n",
       "       u'ATP-dependent RNA helicase',\n",
       "       u'5-methylaminomethyl-2-thiouridine methyltransferase',\n",
       "       u'MFS transporte', u'ATP-dependent helicase',\n",
       "       u'short chain dehydrogenase',\n",
       "       u'AraC family transcriptional regulator',\n",
       "       u'TonB-dependent receptor', u'recombination associated protein',\n",
       "       u'oxidoreductase', u'sodium/glutamate symporter', u'hydrolase',\n",
       "       u'LysR family transcriptional regulator',\n",
       "       u'O-succinylhomoserine sulfhydrylase',\n",
       "       u'NAD-dependent glutamate dehydrogenase', u'carbohydrate kinase',\n",
       "       u'lipoprotein releasing system, ATP-binding protein',\n",
       "       u'transporter', u'biotin-dependent carboxylase',\n",
       "       u\"orotidine 5'-phosphate decarboxylase\",\n",
       "       u'transcriptional regulator',\n",
       "       u'ATP-dependent Clp protease, ATP-binding subunit ClpA',\n",
       "       u'conjugal transfer protein TrbF', u'protein PvdP',\n",
       "       u'glyceraldehyde-3-phosphate dehydrogenase',\n",
       "       u'glucose dehydrogenase', u'glycogen branching protein',\n",
       "       u'ATP-dependent DNA ligase', u'two-component response regulator',\n",
       "       u'membrane protein component of ABC ribose transporter',\n",
       "       u'ribose transporter', u'glutaminyl-tRNA synthetase',\n",
       "       u'serine/threonine-protein kinase',\n",
       "       u'assimilatory nitrate reductase', u'2-dehydropantoate 2-reductase',\n",
       "       u'phospho-2-dehydro-3-deoxyheptonate aldolase', u'RhsP2',\n",
       "       u'IclR family transcriptional regulator',\n",
       "       u'cyanate MFS transporter', u'siderophore receptor',\n",
       "       u'TerC family protein', u'alkaline metalloproteinase',\n",
       "       u'AMP-binding protein', u'HSP90 family protein',\n",
       "       u'radical activating enzyme', u'GTP pyrophosphokinase',\n",
       "       u'hemolytic phospholipase C', u'proline utilization regulator',\n",
       "       u'inhibitor of cysteine peptidase', u'ABC transporter', u'HxcZ',\n",
       "       u'type IV B pilus protein', u'MFS transporter',\n",
       "       u'3-dehydroquinate synthase'], dtype=object)"
      ]
     },
     "execution_count": 22,
     "metadata": {},
     "output_type": "execute_result"
    }
   ],
   "source": [
    "varB['product'].unique()"
   ]
  },
  {
   "cell_type": "markdown",
   "metadata": {},
   "source": [
    "On the sample SRR5363689_cef , a potential candidate to explain the high mutation number observed is the protein PA14_17500, coding for a recombination associated protein. \n",
    "\n",
    "An gene ortholog to PA14_17500 Pseudomonas aeruginosa PAO1, a RdgC protein, as been shown to be a potential negative regulator of RdgA proteins, involved in  nonmutagenic repairs of stalled replication forks in bacteria (Drees et al. 2006; Ha et al. 2007). \n",
    "\n",
    "Nonmutagenic repair of stalled replication forks is a mecanism that allows the resolve stalled replication forks at site of DNA dammage without leaving a mutation site, by repairing the lesion through a recombination process (Cox 2002). A higher downregulation of this mecanism could lead to the accumulation of DNA damage in the genome. "
   ]
  },
  {
   "cell_type": "code",
   "execution_count": 23,
   "metadata": {},
   "outputs": [
    {
     "data": {
      "text/html": [
       "<div>\n",
       "<table border=\"1\" class=\"dataframe\">\n",
       "  <thead>\n",
       "    <tr style=\"text-align: right;\">\n",
       "      <th></th>\n",
       "      <th>Sample</th>\n",
       "      <th>CHROM</th>\n",
       "      <th>POS</th>\n",
       "      <th>REF</th>\n",
       "      <th>ALT</th>\n",
       "      <th>QUAL</th>\n",
       "      <th>SAF</th>\n",
       "      <th>SAR</th>\n",
       "      <th>SRF</th>\n",
       "      <th>SRR</th>\n",
       "      <th>...</th>\n",
       "      <th>DP</th>\n",
       "      <th>EFF</th>\n",
       "      <th>GENE</th>\n",
       "      <th>EFFECT</th>\n",
       "      <th>AA</th>\n",
       "      <th>IMPACT</th>\n",
       "      <th>FUNCLASS</th>\n",
       "      <th>SB</th>\n",
       "      <th>condition</th>\n",
       "      <th>product</th>\n",
       "    </tr>\n",
       "  </thead>\n",
       "  <tbody>\n",
       "    <tr>\n",
       "      <th>0</th>\n",
       "      <td>SRR5363691_cef.fq</td>\n",
       "      <td>NC_008463</td>\n",
       "      <td>1895926</td>\n",
       "      <td>C</td>\n",
       "      <td>G</td>\n",
       "      <td>4.238570e-14</td>\n",
       "      <td>1</td>\n",
       "      <td>1</td>\n",
       "      <td>2</td>\n",
       "      <td>5</td>\n",
       "      <td>...</td>\n",
       "      <td>9</td>\n",
       "      <td>.</td>\n",
       "      <td>PA14_21790</td>\n",
       "      <td>missense_variant</td>\n",
       "      <td>p.Arg81Pro/c.242G&gt;C</td>\n",
       "      <td>MODERATE</td>\n",
       "      <td>MISSENSE</td>\n",
       "      <td>0.75</td>\n",
       "      <td>cef</td>\n",
       "      <td>recombination associated protein</td>\n",
       "    </tr>\n",
       "    <tr>\n",
       "      <th>1</th>\n",
       "      <td>SRR5363692_cef.fq</td>\n",
       "      <td>NC_008463</td>\n",
       "      <td>1896086</td>\n",
       "      <td>C</td>\n",
       "      <td>A</td>\n",
       "      <td>1.916620e-14</td>\n",
       "      <td>1</td>\n",
       "      <td>1</td>\n",
       "      <td>2</td>\n",
       "      <td>5</td>\n",
       "      <td>...</td>\n",
       "      <td>9</td>\n",
       "      <td>.</td>\n",
       "      <td>PA14_21790</td>\n",
       "      <td>stop_gained</td>\n",
       "      <td>p.Glu28*/c.82G&gt;T</td>\n",
       "      <td>HIGH</td>\n",
       "      <td>NONSENSE</td>\n",
       "      <td>0.75</td>\n",
       "      <td>cef</td>\n",
       "      <td>recombination associated protein</td>\n",
       "    </tr>\n",
       "  </tbody>\n",
       "</table>\n",
       "<p>2 rows × 23 columns</p>\n",
       "</div>"
      ],
      "text/plain": [
       "              Sample      CHROM      POS REF ALT          QUAL  SAF  SAR  SRF  \\\n",
       "0  SRR5363691_cef.fq  NC_008463  1895926   C   G  4.238570e-14    1    1    2   \n",
       "1  SRR5363692_cef.fq  NC_008463  1896086   C   A  1.916620e-14    1    1    2   \n",
       "\n",
       "   SRR                ...                 DP  EFF        GENE  \\\n",
       "0    5                ...                  9    .  PA14_21790   \n",
       "1    5                ...                  9    .  PA14_21790   \n",
       "\n",
       "             EFFECT                   AA    IMPACT  FUNCLASS    SB condition  \\\n",
       "0  missense_variant  p.Arg81Pro/c.242G>C  MODERATE  MISSENSE  0.75       cef   \n",
       "1       stop_gained     p.Glu28*/c.82G>T      HIGH  NONSENSE  0.75       cef   \n",
       "\n",
       "                            product  \n",
       "0  recombination associated protein  \n",
       "1  recombination associated protein  \n",
       "\n",
       "[2 rows x 23 columns]"
      ]
     },
     "execution_count": 23,
     "metadata": {},
     "output_type": "execute_result"
    }
   ],
   "source": [
    "pysqldf(\"SELECT * FROM var WHERE product='recombination associated protein' AND SB<2\")"
   ]
  },
  {
   "cell_type": "markdown",
   "metadata": {},
   "source": [
    "It is interesting to note that another sample, SRR5363692_cef.fq, presents a variation of this gene without the high mutation rate. This could be explained by the fact that in the later, the mutation caused the apparition of a stop codon, likely rendering the protein inactive, whereas the variation in SRR5363691_cef could have increased its efficiency. \n"
   ]
  },
  {
   "cell_type": "markdown",
   "metadata": {},
   "source": [
    "On the second sample SRR5363689_cef : the candidate as a responsible for the high mutation rate is the DNA mismatch repair protein MutS.\n"
   ]
  },
  {
   "cell_type": "code",
   "execution_count": 24,
   "metadata": {},
   "outputs": [
    {
     "data": {
      "text/html": [
       "<div>\n",
       "<table border=\"1\" class=\"dataframe\">\n",
       "  <thead>\n",
       "    <tr style=\"text-align: right;\">\n",
       "      <th></th>\n",
       "      <th>Sample</th>\n",
       "      <th>CHROM</th>\n",
       "      <th>POS</th>\n",
       "      <th>REF</th>\n",
       "      <th>ALT</th>\n",
       "      <th>QUAL</th>\n",
       "      <th>SAF</th>\n",
       "      <th>SAR</th>\n",
       "      <th>SRF</th>\n",
       "      <th>SRR</th>\n",
       "      <th>...</th>\n",
       "      <th>DP</th>\n",
       "      <th>EFF</th>\n",
       "      <th>GENE</th>\n",
       "      <th>EFFECT</th>\n",
       "      <th>AA</th>\n",
       "      <th>IMPACT</th>\n",
       "      <th>FUNCLASS</th>\n",
       "      <th>SB</th>\n",
       "      <th>condition</th>\n",
       "      <th>product</th>\n",
       "    </tr>\n",
       "  </thead>\n",
       "  <tbody>\n",
       "    <tr>\n",
       "      <th>0</th>\n",
       "      <td>SRR5363689_cef.fq</td>\n",
       "      <td>NC_008463</td>\n",
       "      <td>1501459</td>\n",
       "      <td>T</td>\n",
       "      <td>A</td>\n",
       "      <td>1.223540e-14</td>\n",
       "      <td>1</td>\n",
       "      <td>1</td>\n",
       "      <td>5</td>\n",
       "      <td>3</td>\n",
       "      <td>...</td>\n",
       "      <td>10</td>\n",
       "      <td>.</td>\n",
       "      <td>PA14_17500</td>\n",
       "      <td>missense_variant</td>\n",
       "      <td>p.Thr676Ser/c.2026A&gt;T</td>\n",
       "      <td>MODERATE</td>\n",
       "      <td>MISSENSE</td>\n",
       "      <td>0.416667</td>\n",
       "      <td>cef</td>\n",
       "      <td>DNA mismatch repair protein MutS</td>\n",
       "    </tr>\n",
       "  </tbody>\n",
       "</table>\n",
       "<p>1 rows × 23 columns</p>\n",
       "</div>"
      ],
      "text/plain": [
       "              Sample      CHROM      POS REF ALT          QUAL  SAF  SAR  SRF  \\\n",
       "0  SRR5363689_cef.fq  NC_008463  1501459   T   A  1.223540e-14    1    1    5   \n",
       "\n",
       "   SRR                ...                 DP  EFF        GENE  \\\n",
       "0    3                ...                 10    .  PA14_17500   \n",
       "\n",
       "             EFFECT                     AA    IMPACT  FUNCLASS        SB  \\\n",
       "0  missense_variant  p.Thr676Ser/c.2026A>T  MODERATE  MISSENSE  0.416667   \n",
       "\n",
       "  condition                           product  \n",
       "0       cef  DNA mismatch repair protein MutS  \n",
       "\n",
       "[1 rows x 23 columns]"
      ]
     },
     "execution_count": 24,
     "metadata": {},
     "output_type": "execute_result"
    }
   ],
   "source": [
    "pysqldf(\"SELECT * FROM var WHERE product='DNA mismatch repair protein MutS' AND SB<2 \")\n",
    "\n"
   ]
  },
  {
   "cell_type": "code",
   "execution_count": 1,
   "metadata": {},
   "outputs": [],
   "source": []
  }
 ],
 "metadata": {
  "kernelspec": {
   "display_name": "Python 2",
   "language": "python",
   "name": "python2"
  },
  "language_info": {
   "codemirror_mode": {
    "name": "ipython",
    "version": 2
   },
   "file_extension": ".py",
   "mimetype": "text/x-python",
   "name": "python",
   "nbconvert_exporter": "python",
   "pygments_lexer": "ipython2",
   "version": "2.7.14"
  }
 },
 "nbformat": 4,
 "nbformat_minor": 1
}
